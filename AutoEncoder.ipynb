{
 "cells": [
  {
   "cell_type": "code",
   "execution_count": 2,
   "metadata": {},
   "outputs": [],
   "source": [
    "import tensorflow as tf\n",
    "import numpy as np\n",
    "import matplotlib.pyplot as plt"
   ]
  },
  {
   "cell_type": "code",
   "execution_count": 3,
   "metadata": {},
   "outputs": [
    {
     "name": "stdout",
     "output_type": "stream",
     "text": [
      "Extracting MNIST_data/train-images-idx3-ubyte.gz\n",
      "Extracting MNIST_data/train-labels-idx1-ubyte.gz\n",
      "Extracting MNIST_data/t10k-images-idx3-ubyte.gz\n",
      "Extracting MNIST_data/t10k-labels-idx1-ubyte.gz\n"
     ]
    }
   ],
   "source": [
    "# 导入MNIST数据\n",
    "from tensorflow.examples.tutorials.mnist import input_data\n",
    "mnist = input_data.read_data_sets(\"MNIST_data/\", one_hot=False)\n",
    "#down load data location:http://yann.lecun.com/exdb/mnist/"
   ]
  },
  {
   "cell_type": "code",
   "execution_count": 4,
   "metadata": {},
   "outputs": [],
   "source": [
    "#设置参数\n",
    "learning_rate = 0.01\n",
    "training_epochs = 20000\n",
    "batch_size = 256\n",
    "display_step = 1\n",
    "examples_to_show = 10\n",
    "n_input = 784"
   ]
  },
  {
   "cell_type": "code",
   "execution_count": 5,
   "metadata": {},
   "outputs": [],
   "source": [
    "# tf Graph input (only pictures)\n",
    "X = tf.placeholder(\"float\", [None, n_input])\n",
    "keep_prob = tf.placeholder(tf.float32)    #set dropout prob"
   ]
  },
  {
   "cell_type": "code",
   "execution_count": 6,
   "metadata": {},
   "outputs": [],
   "source": [
    "# 用字典的方式存储各隐藏层的参数\n",
    "n_hidden_1 = 256 # 第一编码层神经元个数\n",
    "n_hidden_2 = 64 # 第二编码层神经元个数\n",
    "n_hidden_3 = 32 # 第三编码层神经元个数\n",
    "\n",
    "# 权重和偏置的变化在编码层和解码层顺序是相逆的\n",
    "# 权重参数矩阵维度是每层的 输入*输出，偏置参数维度取决于输出层的单元数\n",
    "weights = {\n",
    "    'encoder_h1': tf.Variable(tf.random_normal([n_input, n_hidden_1])),\n",
    "    'encoder_h2': tf.Variable(tf.random_normal([n_hidden_1, n_hidden_2])),\n",
    "    'encoder_h3': tf.Variable(tf.random_normal([n_hidden_2, n_hidden_3])),\n",
    "    'decoder_h1': tf.Variable(tf.random_normal([n_hidden_3, n_hidden_2])),\n",
    "    'decoder_h2': tf.Variable(tf.random_normal([n_hidden_2, n_hidden_1])),\n",
    "    'decoder_h3': tf.Variable(tf.random_normal([n_hidden_1, n_input])),\n",
    "}\n",
    "biases = {\n",
    "    'encoder_b1': tf.Variable(tf.random_normal([n_hidden_1])),\n",
    "    'encoder_b2': tf.Variable(tf.random_normal([n_hidden_2])),\n",
    "    'encoder_b3': tf.Variable(tf.random_normal([n_hidden_3])),\n",
    "    'decoder_b1': tf.Variable(tf.random_normal([n_hidden_2])),\n",
    "    'decoder_b2': tf.Variable(tf.random_normal([n_hidden_1])),\n",
    "    'decoder_b3': tf.Variable(tf.random_normal([n_input])),\n",
    "}"
   ]
  },
  {
   "cell_type": "code",
   "execution_count": 7,
   "metadata": {},
   "outputs": [
    {
     "ename": "SyntaxError",
     "evalue": "invalid syntax (<ipython-input-7-f850786550c2>, line 39)",
     "output_type": "error",
     "traceback": [
      "\u001b[0;36m  File \u001b[0;32m\"<ipython-input-7-f850786550c2>\"\u001b[0;36m, line \u001b[0;32m39\u001b[0m\n\u001b[0;31m    lr = tf.train.(learning_rate,current_iter,training_epochs,0.99)\u001b[0m\n\u001b[0m                  ^\u001b[0m\n\u001b[0;31mSyntaxError\u001b[0m\u001b[0;31m:\u001b[0m invalid syntax\n"
     ]
    }
   ],
   "source": [
    "# 每一层结构都是 xW + b\n",
    "# 构建编码器\n",
    "def encoder(x):\n",
    "    layer_1 = tf.nn.sigmoid(tf.add(tf.matmul(x, weights['encoder_h1']),\n",
    "                                   biases['encoder_b1']))\n",
    "    layer_1 = tf.nn.dropout(layer_1,keep_prob=0.9)    #dropout = 0.9\n",
    "    layer_2 = tf.nn.sigmoid(tf.add(tf.matmul(layer_1, weights['encoder_h2']),\n",
    "                                   biases['encoder_b2']))\n",
    "    layer_3 = tf.nn.sigmoid(tf.add(tf.matmul(layer_2, weights['encoder_h3']),\n",
    "                                   biases['encoder_b3']))\n",
    "    return layer_3\n",
    "\n",
    "# 构建解码器\n",
    "def decoder(x):\n",
    "    layer_1 = tf.nn.sigmoid(tf.add(tf.matmul(x, weights['decoder_h1']),\n",
    "                                   biases['decoder_b1']))\n",
    "    #print(layer_1.get_shape())\n",
    "    layer_2 = tf.nn.sigmoid(tf.add(tf.matmul(layer_1, weights['decoder_h2']),\n",
    "                                   biases['decoder_b2']))\n",
    "    #print(layer_2.get_shape())\n",
    "    #print(weights[\"decoder_h3\"].get_shape())\n",
    "    layer_3 = tf.nn.sigmoid(tf.add(tf.matmul(layer_2, weights['decoder_h3']),\n",
    "                                   biases['decoder_b3']))\n",
    "    #print(layer_3.get_shape())\n",
    "    return layer_3\n",
    " \n",
    "# 构建模型\n",
    "encoder_op = encoder(X)\n",
    "decoder_op = decoder(encoder_op)\n",
    " \n",
    "# 预测\n",
    "y_pred = decoder_op\n",
    "y_true = X\n",
    " \n",
    "# 定义代价函数和优化器\n",
    "current_iter = tf.Variable(0)    #设置优化器学习率衰减\n",
    "total_cost = []                  #画衰减曲线\n",
    "lr = tf.train.exponential_decay(learning_rate,current_iter,training_epochs,0.99)\n",
    "#lr = tf.train.polynomial_decay(learning_rate,current_iter,training_epochs,0.99)\n",
    "#lr_decay https://blog.csdn.net/akadiao/article/details/79560731\n",
    "#lr_decay https://zhuanlan.zhihu.com/p/32923584\n",
    "#lr_decay https://www.e-learn.cn/content/qita/736149\n",
    "cost = 784 * tf.reduce_mean(tf.pow(y_true - y_pred, 2)) #最小二乘法\n",
    "#cost = tf.pow(y_true - y_pred, 2)    #新的损失函数\n",
    "optimizer = tf.train.AdamOptimizer(lr).minimize(cost,current_iter)"
   ]
  },
  {
   "cell_type": "code",
   "execution_count": null,
   "metadata": {
    "scrolled": false
   },
   "outputs": [],
   "source": [
    "#with tf.Session(config=tf.ConfigProto(allow_soft_placement=True, log_device_placement=True)) as sess:\n",
    "with tf.Session() as sess:\n",
    "    #with tf.device(\"/gpu:0\"):  #GPU 没用？？？\n",
    "    # tf.initialize_all_variables() no long valid from\n",
    "    # 2017-03-02 if using tensorflow >= 0.12\n",
    "    # 加上下面一行就可以使用 个gpu了\n",
    "    #config = tf.ConfigProto(allow_soft_placement=True)\n",
    "    # 这一行设置 gpu 随使用增长\n",
    "    #config.gpu_options.allow_growth = True   #？数据上传GPU~~\n",
    "\n",
    "    if int((tf.__version__).split('.')[1]) < 12 and int((tf.__version__).split('.')[0]) < 1:\n",
    "        init = tf.initialize_all_variables()\n",
    "    else:\n",
    "        init = tf.global_variables_initializer()\n",
    "    sess.run(init)\n",
    "\n",
    "    # 首先计算总批数，保证每次循环训练集中的每个样本都参与训练，不同于批量训练\n",
    "    total_batch = int(mnist.train.num_examples/batch_size) #总批数\n",
    "    for epoch in range(training_epochs):\n",
    "        current_iter +=1\n",
    "        #print(\"Current learning rate is\",lr.eval(session=sess))\n",
    "        for i in range(total_batch):\n",
    "            batch_xs, batch_ys = mnist.train.next_batch(batch_size)  # max(x) = 1, min(x) = 0\n",
    "            # Run optimization op (backprop) and cost op (to get loss value)\n",
    "            _, c = sess.run([optimizer, cost], feed_dict={X: batch_xs,keep_prob:0.5})\n",
    "        if epoch % display_step == 0:\n",
    "            print(\"Epoch:\", '%04d' % (epoch+1), \"cost=\", \"{:.9f}\".format(c))\n",
    "        total_cost.append(c)    #log cost change\n",
    "    print(\"Optimization Finished!\")\n",
    "\n",
    "\n",
    "\n",
    "    ####################################################################################\n",
    "    #测试和计算结果，这里馈入数据十个\n",
    "    encode_decode = sess.run(y_pred, feed_dict={X: mnist.test.images[:100*examples_to_show],keep_prob:1})\n",
    "\n",
    "    #计算均方根值\n",
    "    ERR = 0    #图与图之间的整体误差\n",
    "    for i in range(100*examples_to_show):\n",
    "        err_img = mnist.test.images[i]-encode_decode[i]\n",
    "        #print('mnist',mnist.test.images[i].max())    #max is 1.0\n",
    "        #print('endecoder',encode_decode[i].mean())\n",
    "        #print('endecoder',encode_decode[i].max())\n",
    "        #print('err_max',err_img.max())\n",
    "        err_img = err_img**2\n",
    "        err_sqrt = np.sqrt(err_img.sum()/n_input)\n",
    "        #print(\"err is\",err_sqrt)\n",
    "\n",
    "        #计算总误差\n",
    "        ERR = err_sqrt + ERR\n",
    "        RMSE = ERR/(100*examples_to_show)\n",
    "\n",
    "    print(\"RMSE is \",RMSE)    #计算平均RMES\n",
    "\n",
    "\n",
    "\n",
    "    #选出十个指标用于显示\n",
    "    f, a = plt.subplots(3, 10, figsize=(10, 3))\n",
    "    f.suptitle('h1 = %d,h2=%d,h3=%d,epochs is %d, RMSE is %f'%(n_hidden_1,n_hidden_2,n_hidden_3,training_epochs,RMSE), fontsize=16)\n",
    "    for i in range(examples_to_show):\n",
    "        a[0][i].imshow(np.reshape(mnist.test.images[9*examples_to_show+i], (28, 28)))\n",
    "        a[1][i].imshow(np.reshape(encode_decode[9*examples_to_show+i], (28, 28)))\n",
    "        a[2][i].imshow(np.reshape(np.abs((mnist.test.images[9*examples_to_show+i]-encode_decode[9*examples_to_show+i])),(28,28)))\n",
    "    plt.savefig(\"%d_%d_%d_001_%d_RMSE.png\"%(n_hidden_1,n_hidden_2,n_hidden_3,training_epochs))    #要在show前调用\n",
    "    plt.show()\n"
   ]
  },
  {
   "cell_type": "code",
   "execution_count": null,
   "metadata": {},
   "outputs": [],
   "source": [
    "plt.plot(total_cost)\n",
    "plt.title('AutoEncoder Cost Change')\n",
    "plt.xlabel('Epochs')\n",
    "plt.ylabel(\"Cost\")\n",
    "plt.savefig(\"%d_%d_%d_001_%d_Cost.png\"%(n_hidden_1,n_hidden_2,n_hidden_3,training_epochs)) \n",
    "plt.show()"
   ]
  },
  {
   "cell_type": "code",
   "execution_count": null,
   "metadata": {},
   "outputs": [],
   "source": []
  }
 ],
 "metadata": {
  "kernelspec": {
   "display_name": "Python 3",
   "language": "python",
   "name": "python3"
  },
  "language_info": {
   "codemirror_mode": {
    "name": "ipython",
    "version": 3
   },
   "file_extension": ".py",
   "mimetype": "text/x-python",
   "name": "python",
   "nbconvert_exporter": "python",
   "pygments_lexer": "ipython3",
   "version": "3.5.4"
  }
 },
 "nbformat": 4,
 "nbformat_minor": 2
}
